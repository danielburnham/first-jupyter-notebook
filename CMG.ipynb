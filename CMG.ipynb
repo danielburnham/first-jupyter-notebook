{
 "cells": [
  {
   "cell_type": "markdown",
   "metadata": {},
   "source": [
    "In eukaryotes, the replisome is centred around a core hetero-hexameric AAA+ helicase, Mcm2-7, activated at origin firing through recruitment of Cdc45 and GINS, to form Cdc45/Mcm2-7/Cdc45 (CMG). Details of CMG operation have recently been elucidated, including orientation and geometry of the leading- and lagging-strand templates, yet the translocation mechanism remains elusive.\n",
    "\n",
    "Bulk biochemical and structural studies of hexameric helicases speculate CMG unwinds DNA by a variety of mechanisms. For example, via rotary escort translocation where DNA binding hairpins sequentially ‘walk’ along the DNA substrate, or as a ‘pump-jack’ where the N and C terminal tiers open and close like a clamshell.\n",
    "\n",
    "We measured real-time DNA unwinding by individual reconstituted recombinant Drosophila melanogaster CMG at the single-molecule level with magnetic tweezers. Our data show CMG unwinds orders of magnitude slower than replication fork rates in vivo and does not act unidirectionally. Furthermore, we investigated the kinetics of the helicase as a function of force applied to the lagging-strand template and ATP concentration.\n",
    "\n",
    "Through building a quantitative model we discover the helicase exhibits a biased random walk with frequent entrance into one of three long lifetime pauses, thus describing and explaining the observed, heterogeneous, motion. We find that a ‘pause-free’ unwinding speed would recover in vivo replication fork rates in vitro, leading us to speculate that additional factors not present in our study, for example polymerase 𝜀, Mcm10, Mrc1, or Csm3/Tof1 may alter unwinding mechanism kinetics.\n",
    "\n",
    "We propose CMG translocates as a lazy Brownian ratchet, with the inherent plasticity providing a robust platform for compensating errors in the hexameric core and dealing with DNA lesions and roadblocks. With this quantitative description core replicative helicase mechanism it will be possible to ascertain the precise effect additional replisome components have upon fork progression.\n"
   ]
  },
  {
   "cell_type": "code",
   "execution_count": 2,
   "metadata": {
    "scrolled": true
   },
   "outputs": [
    {
     "data": {
      "text/html": [
       "<div id=\"3dmolviewer_1519406124792663\"  style=\"position: relative; width: 640px; height: 480px\">\n",
       "<script>\n",
       "if(typeof $3Dmolpromise === 'undefined') $3Dmolpromise = $.when($.getScript('https://3dmol.csb.pitt.edu/build/3Dmol.js'))\n",
       "var viewer_1519406124792663 = null;\n",
       "$3Dmolpromise.done(function() {\n",
       "viewer_1519406124792663 = $3Dmol.createViewer($(\"#3dmolviewer_1519406124792663\"),{backgroundColor:\"white\"});\n",
       "$3Dmol.download(\"pdb:5U8S\", viewer_1519406124792663, {}, function() {\n",
       "\tviewer_1519406124792663.setStyle({\"cartoon\": {\"color\": \"spectrum\"}});\n",
       "viewer_1519406124792663.render();\n",
       "})\n",
       "});\n",
       "</script>"
      ],
      "text/plain": [
       "<py3Dmol.view at 0x109a594a8>"
      ]
     },
     "execution_count": 2,
     "metadata": {},
     "output_type": "execute_result"
    }
   ],
   "source": [
    "import py3Dmol\n",
    "view = py3Dmol.view(query='pdb:5U8S')\n",
    "view.setStyle({'cartoon':{'color':'spectrum'}})\n",
    "view"
   ]
  }
 ],
 "metadata": {
  "kernelspec": {
   "display_name": "Python 3",
   "language": "python",
   "name": "python3"
  },
  "language_info": {
   "codemirror_mode": {
    "name": "ipython",
    "version": 3
   },
   "file_extension": ".py",
   "mimetype": "text/x-python",
   "name": "python",
   "nbconvert_exporter": "python",
   "pygments_lexer": "ipython3",
   "version": "3.6.4"
  }
 },
 "nbformat": 4,
 "nbformat_minor": 2
}
